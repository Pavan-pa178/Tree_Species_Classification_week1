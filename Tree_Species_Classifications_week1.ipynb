{
  "nbformat": 4,
  "nbformat_minor": 0,
  "metadata": {
    "colab": {
      "provenance": [],
      "authorship_tag": "ABX9TyPqC6v51/q0DTEP+32+0Tdh",
      "include_colab_link": true
    },
    "kernelspec": {
      "name": "python3",
      "display_name": "Python 3"
    },
    "language_info": {
      "name": "python"
    }
  },
  "cells": [
    {
      "cell_type": "markdown",
      "metadata": {
        "id": "view-in-github",
        "colab_type": "text"
      },
      "source": [
        "<a href=\"https://colab.research.google.com/github/Pavan-pa178/Tree_Species_Classification_week1/blob/main/Tree_Species_Classifications_week1.ipynb\" target=\"_parent\"><img src=\"https://colab.research.google.com/assets/colab-badge.svg\" alt=\"Open In Colab\"/></a>"
      ]
    },
    {
      "cell_type": "code",
      "execution_count": 3,
      "metadata": {
        "colab": {
          "base_uri": "https://localhost:8080/"
        },
        "id": "9sPxWKGfsopu",
        "outputId": "3a6c6c03-992d-4b49-dce5-7eb44b27c40a"
      },
      "outputs": [
        {
          "output_type": "stream",
          "name": "stdout",
          "text": [
            "Path to dataset files: /kaggle/input/tree-species-identification-dataset\n"
          ]
        }
      ],
      "source": [
        "import kagglehub\n",
        "\n",
        "# Download latest version\n",
        "path = kagglehub.dataset_download(\"viditgandhi/tree-species-identification-dataset\")\n",
        "\n",
        "print(\"Path to dataset files:\", path)"
      ]
    },
    {
      "cell_type": "code",
      "source": [
        "import shutil\n",
        "\n",
        "# Define the source path (where the dataset is downloaded)\n",
        "source_path = '/kaggle/input/tree-species-identification-dataset'\n",
        "\n",
        "# Define the destination path (replace with your desired path)\n",
        "destination_path = '/content/tree-species-dataset'\n",
        "\n",
        "# Use shutil.copytree() to copy the directory\n",
        "try:\n",
        "    shutil.copytree(source_path, destination_path)\n",
        "    print(f\"Dataset copied successfully from {source_path} to {destination_path}\")\n",
        "except shutil.Error as e:\n",
        "    print(f\"Error copying dataset: {e}\")\n",
        "except FileNotFoundError:\n",
        "    print(f\"Source directory not found: {source_path}\")\n",
        "except FileExistsError:\n",
        "    print(f\"Destination directory already exists: {destination_path}\")"
      ],
      "metadata": {
        "colab": {
          "base_uri": "https://localhost:8080/"
        },
        "id": "qBEwc4nPs3Ot",
        "outputId": "69bc60ed-8a4b-4574-a605-bb775bc57b94"
      },
      "execution_count": 4,
      "outputs": [
        {
          "output_type": "stream",
          "name": "stdout",
          "text": [
            "Destination directory already exists: /content/tree-species-dataset\n"
          ]
        }
      ]
    }
  ]
}